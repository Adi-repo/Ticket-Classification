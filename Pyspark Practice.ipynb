{
 "cells": [
  {
   "cell_type": "code",
   "execution_count": 2,
   "id": "7c68fdc6",
   "metadata": {},
   "outputs": [],
   "source": [
    "from pyspark.sql import SparkSession"
   ]
  },
  {
   "cell_type": "code",
   "execution_count": 2,
   "id": "16c021ac",
   "metadata": {},
   "outputs": [],
   "source": [
    "from pyspark import SparkContext"
   ]
  },
  {
   "cell_type": "code",
   "execution_count": 3,
   "id": "2c73677d",
   "metadata": {},
   "outputs": [],
   "source": [
    "sc = SparkContext(\"local\", \"test\")"
   ]
  },
  {
   "cell_type": "code",
   "execution_count": 4,
   "id": "3756d8f5",
   "metadata": {},
   "outputs": [],
   "source": [
    "spark = SparkSession.builder.appName('new').getOrCreate()"
   ]
  },
  {
   "cell_type": "code",
   "execution_count": 5,
   "id": "a7540e49",
   "metadata": {},
   "outputs": [],
   "source": [
    "DimeEmployee = spark.read.option('header','true').csv(\"C:/Users/aditya.singh490/Documents/AdventureWorks/AdventureWorks_DF/DimEmployee.csv\")"
   ]
  },
  {
   "cell_type": "code",
   "execution_count": 6,
   "id": "87f3d7fe",
   "metadata": {},
   "outputs": [],
   "source": [
    "DimeProduct = spark.read.option('header','true').csv(\"C:/Users/aditya.singh490/Documents/AdventureWorks/AdventureWorks_DF/DimProduct.csv\")"
   ]
  },
  {
   "cell_type": "code",
   "execution_count": 7,
   "id": "baceb3f7",
   "metadata": {},
   "outputs": [],
   "source": [
    "FactResellerSale = spark.read.option('header','true').csv(\"C:/Users/aditya.singh490/Documents/AdventureWorks/AdventureWorks_DF/FactResellerSales.csv\")"
   ]
  },
  {
   "cell_type": "code",
   "execution_count": 8,
   "id": "9d5da8e5",
   "metadata": {},
   "outputs": [],
   "source": [
    "DimeEmployee_RDD = sc.textFile(\"C:/Users/aditya.singh490/Documents/AdventureWorks/AdventureWorks_RDD/DimEmployee.csv\")"
   ]
  },
  {
   "cell_type": "code",
   "execution_count": 9,
   "id": "3e648413",
   "metadata": {},
   "outputs": [],
   "source": [
    "DimeProduct_RDD = sc.textFile(\"C:/Users/aditya.singh490/Documents/AdventureWorks/AdventureWorks_RDD/DimProduct.csv\")"
   ]
  },
  {
   "cell_type": "code",
   "execution_count": 10,
   "id": "8244323b",
   "metadata": {},
   "outputs": [],
   "source": [
    "FactResellerSale_RDD = sc.textFile(\"C:/Users/aditya.singh490/Documents/AdventureWorks/AdventureWorks_RDD/FactResellerSales.csv\")"
   ]
  },
  {
   "cell_type": "code",
   "execution_count": 13,
   "id": "6bdfba9e",
   "metadata": {},
   "outputs": [],
   "source": [
    "def func(a):\n",
    "    a.split(\",\")\n",
    "DimeEmployee_Split = DimeEmployee_RDD.map(func)"
   ]
  },
  {
   "cell_type": "code",
   "execution_count": 23,
   "id": "4752ccb8",
   "metadata": {},
   "outputs": [],
   "source": [
    "data_list = [\"ProductKey\", \"ProductSubcategoryKey\", \"EnglishProductName\", \"StandardCost\", \"Color\", \"ListPrice\", \"DealerPrice\"]\n",
    "DimeProduct_DF = DimeProduct.toDF(*data_list)"
   ]
  },
  {
   "cell_type": "code",
   "execution_count": 24,
   "id": "d5d569fd",
   "metadata": {},
   "outputs": [
    {
     "name": "stdout",
     "output_type": "stream",
     "text": [
      "+----------+---------------------+--------------------+------------+------------+---------+-----------+\n",
      "|ProductKey|ProductSubcategoryKey|  EnglishProductName|StandardCost|       Color|ListPrice|DealerPrice|\n",
      "+----------+---------------------+--------------------+------------+------------+---------+-----------+\n",
      "|       233|                   21|LongSleeve Logo J...|     29.0807|       Multi|  48.0673|    28.8404|\n",
      "|       196|                 null|      LL SpindleAxle|        null|          NA|     null|       null|\n",
      "|        65|                 null|           Hex Nut 1|        null|          NA|     null|       null|\n",
      "|       347|                    1|Mountain100 Silve...|   1912.1544|      Silver|  3399.99|   2039.994|\n",
      "|       137|                 null|          Lock Nut 4|        null|          NA|     null|       null|\n",
      "|       155|                 null|         Metal Angle|        null|          NA|     null|       null|\n",
      "|       211|                   14|HL Road Frame  Re...|        null|         Red|     null|       null|\n",
      "|        98|                 null|Internal Lock Was...|        null|          NA|     null|       null|\n",
      "|       447|                   34|          Cable Lock|     10.3125|          NA|       25|         15|\n",
      "|       562|                    3|Touring1000 Yello...|   1481.9379|      Yellow|  2384.07|   1430.442|\n",
      "|       185|                 null|         HL Road Rim|        null|          NA|     null|       null|\n",
      "|       382|                    2| Road550W Yellow  38|    713.0798|      Yellow|  1120.49|    672.294|\n",
      "|       404|                    4|  LL Road Handlebars|     19.7758|          NA|    44.54|     26.724|\n",
      "|       547|                   13|       HL Road Pedal|     35.9596|Silver/Black|    80.99|     48.594|\n",
      "|       465|                   20|HalfFinger Gloves  M|      9.1593|       Black|    24.49|     14.694|\n",
      "|       572|                    3|Touring3000 Yello...|    461.4448|      Yellow|   742.35|     445.41|\n",
      "|        48|                 null|  ThinJam Hex Nut 13|        null|          NA|     null|       null|\n",
      "|         6|                 null|         LL Crankarm|        null|       Black|     null|       null|\n",
      "|       276|                   14|ML Road Frame  Re...|    352.1394|         Red|   594.83|    356.898|\n",
      "|       120|                 null|         Lock Nut 17|        null|          NA|     null|       null|\n",
      "+----------+---------------------+--------------------+------------+------------+---------+-----------+\n",
      "only showing top 20 rows\n",
      "\n"
     ]
    }
   ],
   "source": [
    "DimeProduct_DF.show()"
   ]
  },
  {
   "cell_type": "code",
   "execution_count": 37,
   "id": "75f57159",
   "metadata": {},
   "outputs": [
    {
     "name": "stdout",
     "output_type": "stream",
     "text": [
      "+-----------+-----------------+-----------------+---------+\n",
      "|EmployeeKey|ParentEmployeeKey|SalesTerritoryKey|FirstName|\n",
      "+-----------+-----------------+-----------------+---------+\n",
      "|         72|               32|               11|     Ajay|\n",
      "|         36|               87|               11|  Hemanth|\n",
      "|        104|               16|               11|   Ganesh|\n",
      "|        120|               44|               11|  Perumal|\n",
      "|        287|              272|                4|      Shu|\n",
      "|        105|               44|               11|      Dan|\n",
      "|        201|               23|               11|     Lori|\n",
      "|        130|               92|               11|     Sean|\n",
      "|        295|              290|                8|   Rachel|\n",
      "|        216|               92|               11|    Chris|\n",
      "|        285|              272|                5|     Tsvi|\n",
      "|         59|               18|               11|    Annik|\n",
      "|         69|               16|               11|      Bob|\n",
      "|         83|              214|               11|   Rajesh|\n",
      "|        115|              163|               11|   Janeth|\n",
      "|         93|              214|               11| Lorraine|\n",
      "|         76|               23|               11|   Kok-Ho|\n",
      "|        215|              126|               11|   Andrew|\n",
      "|          2|                7|               11|    Kevin|\n",
      "|        213|              188|               11|      Jan|\n",
      "+-----------+-----------------+-----------------+---------+\n",
      "only showing top 20 rows\n",
      "\n"
     ]
    }
   ],
   "source": [
    "DimeEmployee.show()"
   ]
  },
  {
   "cell_type": "code",
   "execution_count": 40,
   "id": "cca30fa4",
   "metadata": {},
   "outputs": [
    {
     "name": "stdout",
     "output_type": "stream",
     "text": [
      "+----------+------------+----------+-----------+-----------+-----------+------------+-----------------+-------------+---------+--------------------+--------------+-------------------+----------------+-----------+--------+\n",
      "|ProductKey|OrderDateKey|DueDateKey|ShipDateKey|ResellerKey|EmployeeKey|PromotionKey|SalesTerritoryKey|OrderQuantity|UnitPrice|UnitPriceDiscountPct|DiscountAmount|ProductStandardCost|TotalProductCost|SalesAmount| Freight|\n",
      "+----------+------------+----------+-----------+-----------+-----------+------------+-----------------+-------------+---------+--------------------+--------------+-------------------+----------------+-----------+--------+\n",
      "|       339|    20070401|  20070413|   20070408|        523|        282|           1|                3|            2|  469.794|                   0|             0|           486.7066|        973.4132|    939.588| 23.4897|\n",
      "|       213|    20060801|  20060813|   20060808|        403|        282|           1|                4|            2|  20.1865|                   0|             0|            13.8782|         27.7564|     40.373|  1.0093|\n",
      "|       348|    20050901|  20050913|   20050908|        581|        287|           1|                4|            3| 2024.994|                   0|             0|          1898.0944|       5694.2832|   6074.982|151.8746|\n",
      "|       559|    20080601|  20080613|   20080608|         21|        281|           1|                4|            3|   12.144|                   0|             0|             8.9866|         26.9598|     36.432|  0.9108|\n",
      "|       363|    20080101|  20080113|   20080108|        594|        283|           1|                2|            3| 1376.994|                   0|             0|          1251.9813|       3755.9439|   4130.982|103.2746|\n",
      "|       483|    20080301|  20080313|   20080308|         90|        283|           1|                5|            4|       72|                   0|             0|              44.88|          179.52|        288|     7.2|\n",
      "|       271|    20070501|  20070513|   20070508|        436|        281|           1|                4|            4|  202.332|                   0|             0|           187.1571|        748.6284|    809.328| 20.2332|\n",
      "|       364|    20061101|  20061113|   20061108|        642|        281|           1|                2|            5|  647.994|                   0|             0|           598.4354|        2992.177|    3239.97| 80.9993|\n",
      "|       214|    20080201|  20080213|   20080208|        230|        295|           1|                8|            6|   20.994|                   0|             0|            13.0863|         78.5178|    125.964|  3.1491|\n",
      "|       463|    20071001|  20071013|   20071008|        302|        295|           1|                8|            5|   14.694|                   0|             0|             9.1593|         45.7965|      73.47|  1.8368|\n",
      "|       381|    20060801|  20060813|   20060808|         12|        284|           1|                6|            6| 600.2625|                   0|             0|           605.6492|       3633.8952|   3601.575| 90.0394|\n",
      "|       322|    20060601|  20060613|   20060608|        155|        288|           1|                6|            3| 419.4589|                   0|             0|           413.1463|       1239.4389|  1258.3767| 31.4594|\n",
      "|       545|    20080201|  20080213|   20080208|        334|        291|           1|                6|            1|   24.294|                   0|             0|            17.9776|         17.9776|     24.294|  0.6074|\n",
      "|       586|    20070701|  20070713|   20070708|        205|        282|          13|                4|           13| 334.0575|                0.15|      651.4121|           461.4448|       5998.7824|  3691.3354| 92.2834|\n",
      "|       381|    20070201|  20070213|   20070208|        666|        283|           1|                2|            1| 600.2625|                   0|             0|           605.6492|        605.6492|   600.2625| 15.0066|\n",
      "|       469|    20061101|  20061113|   20061108|        396|        281|           1|                2|            2|   22.794|                   0|             0|            15.6709|         31.3418|     45.588|  1.1397|\n",
      "|       555|    20080601|  20080613|   20080608|        595|        293|           1|                1|            3|     63.9|                   0|             0|             47.286|         141.858|      191.7|  4.7925|\n",
      "|       454|    20060901|  20060913|   20060908|        130|        283|           1|                4|            4|   35.994|                   0|             0|            24.7459|         98.9836|    143.976|  3.5994|\n",
      "|       381|    20070201|  20070213|   20070208|        328|        281|           1|                4|            5| 600.2625|                   0|             0|           605.6492|        3028.246|  3001.3125| 75.0328|\n",
      "|       459|    20060801|  20060813|   20060808|         79|        282|           1|                3|            5|   53.994|                   0|             0|            37.1209|        185.6045|     269.97|  6.7493|\n",
      "+----------+------------+----------+-----------+-----------+-----------+------------+-----------------+-------------+---------+--------------------+--------------+-------------------+----------------+-----------+--------+\n",
      "only showing top 20 rows\n",
      "\n"
     ]
    }
   ],
   "source": [
    "FactResellerSale.show()"
   ]
  },
  {
   "cell_type": "code",
   "execution_count": 51,
   "id": "02c6280f",
   "metadata": {},
   "outputs": [],
   "source": [
    "join_DF = DimeEmployee.join(other=FactResellerSale,on='EmployeeKey',how='inner')"
   ]
  },
  {
   "cell_type": "code",
   "execution_count": 52,
   "id": "72dc4616",
   "metadata": {},
   "outputs": [
    {
     "name": "stdout",
     "output_type": "stream",
     "text": [
      "+-----------+-----------------+-----------------+---------+----------+------------+----------+-----------+-----------+------------+-----------------+-------------+---------+--------------------+--------------+-------------------+----------------+-----------+--------+\n",
      "|EmployeeKey|ParentEmployeeKey|SalesTerritoryKey|FirstName|ProductKey|OrderDateKey|DueDateKey|ShipDateKey|ResellerKey|PromotionKey|SalesTerritoryKey|OrderQuantity|UnitPrice|UnitPriceDiscountPct|DiscountAmount|ProductStandardCost|TotalProductCost|SalesAmount| Freight|\n",
      "+-----------+-----------------+-----------------+---------+----------+------------+----------+-----------+-----------+------------+-----------------+-------------+---------+--------------------+--------------+-------------------+----------------+-----------+--------+\n",
      "|        282|              272|                4|    Linda|       339|    20070401|  20070413|   20070408|        523|           1|                3|            2|  469.794|                   0|             0|           486.7066|        973.4132|    939.588| 23.4897|\n",
      "|        282|              272|                4|    Linda|       213|    20060801|  20060813|   20060808|        403|           1|                4|            2|  20.1865|                   0|             0|            13.8782|         27.7564|     40.373|  1.0093|\n",
      "|        287|              272|                4|      Shu|       348|    20050901|  20050913|   20050908|        581|           1|                4|            3| 2024.994|                   0|             0|          1898.0944|       5694.2832|   6074.982|151.8746|\n",
      "|        281|              272|                2|  Michael|       559|    20080601|  20080613|   20080608|         21|           1|                4|            3|   12.144|                   0|             0|             8.9866|         26.9598|     36.432|  0.9108|\n",
      "|        283|              272|                3|  Jillian|       363|    20080101|  20080113|   20080108|        594|           1|                2|            3| 1376.994|                   0|             0|          1251.9813|       3755.9439|   4130.982|103.2746|\n",
      "|        283|              272|                3|  Jillian|       483|    20080301|  20080313|   20080308|         90|           1|                5|            4|       72|                   0|             0|              44.88|          179.52|        288|     7.2|\n",
      "|        281|              272|                2|  Michael|       271|    20070501|  20070513|   20070508|        436|           1|                4|            4|  202.332|                   0|             0|           187.1571|        748.6284|    809.328| 20.2332|\n",
      "|        281|              272|                2|  Michael|       364|    20061101|  20061113|   20061108|        642|           1|                2|            5|  647.994|                   0|             0|           598.4354|        2992.177|    3239.97| 80.9993|\n",
      "|        295|              290|                8|   Rachel|       214|    20080201|  20080213|   20080208|        230|           1|                8|            6|   20.994|                   0|             0|            13.0863|         78.5178|    125.964|  3.1491|\n",
      "|        295|              290|                8|   Rachel|       463|    20071001|  20071013|   20071008|        302|           1|                8|            5|   14.694|                   0|             0|             9.1593|         45.7965|      73.47|  1.8368|\n",
      "|        284|              272|                6|  Garrett|       381|    20060801|  20060813|   20060808|         12|           1|                6|            6| 600.2625|                   0|             0|           605.6492|       3633.8952|   3601.575| 90.0394|\n",
      "|        288|              272|                6|     Jos�|       322|    20060601|  20060613|   20060608|        155|           1|                6|            3| 419.4589|                   0|             0|           413.1463|       1239.4389|  1258.3767| 31.4594|\n",
      "|        291|              290|               10|      Jae|       545|    20080201|  20080213|   20080208|        334|           1|                6|            1|   24.294|                   0|             0|            17.9776|         17.9776|     24.294|  0.6074|\n",
      "|        282|              272|                4|    Linda|       586|    20070701|  20070713|   20070708|        205|          13|                4|           13| 334.0575|                0.15|      651.4121|           461.4448|       5998.7824|  3691.3354| 92.2834|\n",
      "|        283|              272|                3|  Jillian|       381|    20070201|  20070213|   20070208|        666|           1|                2|            1| 600.2625|                   0|             0|           605.6492|        605.6492|   600.2625| 15.0066|\n",
      "|        281|              272|                2|  Michael|       469|    20061101|  20061113|   20061108|        396|           1|                2|            2|   22.794|                   0|             0|            15.6709|         31.3418|     45.588|  1.1397|\n",
      "|        293|              272|                1|     Tete|       555|    20080601|  20080613|   20080608|        595|           1|                1|            3|     63.9|                   0|             0|             47.286|         141.858|      191.7|  4.7925|\n",
      "|        283|              272|                3|  Jillian|       454|    20060901|  20060913|   20060908|        130|           1|                4|            4|   35.994|                   0|             0|            24.7459|         98.9836|    143.976|  3.5994|\n",
      "|        281|              272|                2|  Michael|       381|    20070201|  20070213|   20070208|        328|           1|                4|            5| 600.2625|                   0|             0|           605.6492|        3028.246|  3001.3125| 75.0328|\n",
      "|        282|              272|                4|    Linda|       459|    20060801|  20060813|   20060808|         79|           1|                3|            5|   53.994|                   0|             0|            37.1209|        185.6045|     269.97|  6.7493|\n",
      "+-----------+-----------------+-----------------+---------+----------+------------+----------+-----------+-----------+------------+-----------------+-------------+---------+--------------------+--------------+-------------------+----------------+-----------+--------+\n",
      "only showing top 20 rows\n",
      "\n"
     ]
    }
   ],
   "source": [
    "join_DF.show()"
   ]
  },
  {
   "cell_type": "code",
   "execution_count": 57,
   "id": "f8cddd13",
   "metadata": {},
   "outputs": [],
   "source": [
    "join_DF.createOrReplaceTempView('EmpProduct')"
   ]
  },
  {
   "cell_type": "code",
   "execution_count": 59,
   "id": "20c23be2",
   "metadata": {},
   "outputs": [],
   "source": [
    "EmpProduct_DF = spark.sql(\"select EmployeeKey, FirstName, TotalProductCost, SalesAmount from EmpProduct\")"
   ]
  },
  {
   "cell_type": "code",
   "execution_count": 60,
   "id": "631d0baa",
   "metadata": {},
   "outputs": [
    {
     "name": "stdout",
     "output_type": "stream",
     "text": [
      "+-----------+---------+----------------+-----------+\n",
      "|EmployeeKey|FirstName|TotalProductCost|SalesAmount|\n",
      "+-----------+---------+----------------+-----------+\n",
      "|        282|    Linda|        973.4132|    939.588|\n",
      "|        282|    Linda|         27.7564|     40.373|\n",
      "|        287|      Shu|       5694.2832|   6074.982|\n",
      "|        281|  Michael|         26.9598|     36.432|\n",
      "|        283|  Jillian|       3755.9439|   4130.982|\n",
      "|        283|  Jillian|          179.52|        288|\n",
      "|        281|  Michael|        748.6284|    809.328|\n",
      "|        281|  Michael|        2992.177|    3239.97|\n",
      "|        295|   Rachel|         78.5178|    125.964|\n",
      "|        295|   Rachel|         45.7965|      73.47|\n",
      "|        284|  Garrett|       3633.8952|   3601.575|\n",
      "|        288|     Jos�|       1239.4389|  1258.3767|\n",
      "|        291|      Jae|         17.9776|     24.294|\n",
      "|        282|    Linda|       5998.7824|  3691.3354|\n",
      "|        283|  Jillian|        605.6492|   600.2625|\n",
      "|        281|  Michael|         31.3418|     45.588|\n",
      "|        293|     Tete|         141.858|      191.7|\n",
      "|        283|  Jillian|         98.9836|    143.976|\n",
      "|        281|  Michael|        3028.246|  3001.3125|\n",
      "|        282|    Linda|        185.6045|     269.97|\n",
      "+-----------+---------+----------------+-----------+\n",
      "only showing top 20 rows\n",
      "\n"
     ]
    }
   ],
   "source": [
    "EmpProduct_DF.show()"
   ]
  },
  {
   "cell_type": "code",
   "execution_count": 73,
   "id": "c521011c",
   "metadata": {},
   "outputs": [
    {
     "name": "stderr",
     "output_type": "stream",
     "text": [
      "C:\\ProgramData\\Anaconda3\\lib\\site-packages\\pyspark\\sql\\context.py:112: FutureWarning: Deprecated in 3.0.0. Use SparkSession.builder.getOrCreate() instead.\n",
      "  warnings.warn(\n"
     ]
    }
   ],
   "source": [
    "from pyspark.sql import UDFRegistration\n",
    "from pyspark.sql.types import FloatType\n",
    "from pyspark.sql import SQLContext\n",
    "\n",
    "sqlc = SQLContext(sc)"
   ]
  },
  {
   "cell_type": "code",
   "execution_count": 75,
   "id": "ce74e0be",
   "metadata": {},
   "outputs": [],
   "source": [
    "udf1 = UDFRegistration(sqlc)"
   ]
  },
  {
   "cell_type": "code",
   "execution_count": 76,
   "id": "a4d8d750",
   "metadata": {},
   "outputs": [],
   "source": [
    "def func(x):\n",
    "    return sum(x) "
   ]
  },
  {
   "cell_type": "code",
   "execution_count": 78,
   "id": "93ccc7ea",
   "metadata": {},
   "outputs": [
    {
     "ename": "AttributeError",
     "evalue": "'SQLContext' object has no attribute '_jsparkSession'",
     "output_type": "error",
     "traceback": [
      "\u001b[1;31m---------------------------------------------------------------------------\u001b[0m",
      "\u001b[1;31mAttributeError\u001b[0m                            Traceback (most recent call last)",
      "\u001b[1;32m<ipython-input-78-1008908ed5d3>\u001b[0m in \u001b[0;36m<module>\u001b[1;34m\u001b[0m\n\u001b[1;32m----> 1\u001b[1;33m \u001b[0mudf1\u001b[0m\u001b[1;33m.\u001b[0m\u001b[0mregister\u001b[0m\u001b[1;33m(\u001b[0m\u001b[0mname\u001b[0m\u001b[1;33m=\u001b[0m\u001b[1;34m'new_fun'\u001b[0m\u001b[1;33m,\u001b[0m \u001b[0mf\u001b[0m\u001b[1;33m=\u001b[0m\u001b[1;32mlambda\u001b[0m \u001b[0mx\u001b[0m \u001b[1;33m:\u001b[0m \u001b[0mx\u001b[0m \u001b[1;33m+\u001b[0m \u001b[1;36m10\u001b[0m\u001b[1;33m,\u001b[0m \u001b[0mreturnType\u001b[0m\u001b[1;33m=\u001b[0m\u001b[0mFloatType\u001b[0m\u001b[1;33m(\u001b[0m\u001b[1;33m)\u001b[0m\u001b[1;33m)\u001b[0m\u001b[1;33m\u001b[0m\u001b[1;33m\u001b[0m\u001b[0m\n\u001b[0m",
      "\u001b[1;32mC:\\ProgramData\\Anaconda3\\lib\\site-packages\\pyspark\\sql\\udf.py\u001b[0m in \u001b[0;36mregister\u001b[1;34m(self, name, f, returnType)\u001b[0m\n\u001b[0;32m    454\u001b[0m             )\n\u001b[0;32m    455\u001b[0m             \u001b[0mregister_udf\u001b[0m \u001b[1;33m=\u001b[0m \u001b[0mreturn_udf\u001b[0m\u001b[1;33m.\u001b[0m\u001b[0m_unwrapped\u001b[0m  \u001b[1;31m# type: ignore[attr-defined]\u001b[0m\u001b[1;33m\u001b[0m\u001b[1;33m\u001b[0m\u001b[0m\n\u001b[1;32m--> 456\u001b[1;33m         \u001b[0mself\u001b[0m\u001b[1;33m.\u001b[0m\u001b[0msparkSession\u001b[0m\u001b[1;33m.\u001b[0m\u001b[0m_jsparkSession\u001b[0m\u001b[1;33m.\u001b[0m\u001b[0mudf\u001b[0m\u001b[1;33m(\u001b[0m\u001b[1;33m)\u001b[0m\u001b[1;33m.\u001b[0m\u001b[0mregisterPython\u001b[0m\u001b[1;33m(\u001b[0m\u001b[0mname\u001b[0m\u001b[1;33m,\u001b[0m \u001b[0mregister_udf\u001b[0m\u001b[1;33m.\u001b[0m\u001b[0m_judf\u001b[0m\u001b[1;33m)\u001b[0m\u001b[1;33m\u001b[0m\u001b[1;33m\u001b[0m\u001b[0m\n\u001b[0m\u001b[0;32m    457\u001b[0m         \u001b[1;32mreturn\u001b[0m \u001b[0mreturn_udf\u001b[0m\u001b[1;33m\u001b[0m\u001b[1;33m\u001b[0m\u001b[0m\n\u001b[0;32m    458\u001b[0m \u001b[1;33m\u001b[0m\u001b[0m\n",
      "\u001b[1;31mAttributeError\u001b[0m: 'SQLContext' object has no attribute '_jsparkSession'"
     ]
    }
   ],
   "source": [
    "udf1.register(name='new_fun', f=lambda x : x + 10, returnType=FloatType())"
   ]
  },
  {
   "cell_type": "code",
   "execution_count": 1,
   "id": "218d9bda",
   "metadata": {},
   "outputs": [],
   "source": [
    "arr = [[11, [1,2,3], [4,5,6,7]],\n",
    "      [22, [10,20,30], [40,50,60,70]],\n",
    "      [33, [100,200,300], [400,500,600,700]]]"
   ]
  },
  {
   "cell_type": "code",
   "execution_count": 6,
   "id": "f3013f13",
   "metadata": {},
   "outputs": [
    {
     "data": {
      "text/plain": [
       "60"
      ]
     },
     "execution_count": 6,
     "metadata": {},
     "output_type": "execute_result"
    }
   ],
   "source": [
    "arr[1][2][2]"
   ]
  },
  {
   "cell_type": "code",
   "execution_count": 7,
   "id": "b6924cf6",
   "metadata": {},
   "outputs": [
    {
     "data": {
      "text/plain": [
       "[1, [1, 2, 3], [4, 5, 6, 7]]"
      ]
     },
     "execution_count": 7,
     "metadata": {},
     "output_type": "execute_result"
    }
   ],
   "source": [
    "arr[0]"
   ]
  },
  {
   "cell_type": "code",
   "execution_count": 8,
   "id": "74a57144",
   "metadata": {},
   "outputs": [
    {
     "data": {
      "text/plain": [
       "[1, 2, 3]"
      ]
     },
     "execution_count": 8,
     "metadata": {},
     "output_type": "execute_result"
    }
   ],
   "source": [
    "arr[0][1]"
   ]
  },
  {
   "cell_type": "code",
   "execution_count": 9,
   "id": "cf66d0b7",
   "metadata": {},
   "outputs": [],
   "source": [
    "arr = [(512.0, ([12.0, u'ML Mountain FrameW  Silver  42', 199.3757, u'Silver', 364.09, 218.454], [20070701.0, 20070713.0, 20070708.0, 442.0, 291.0, 1.0, 6.0, 2.0, 218.454, 0.0, 0.0, 199.3757, 398.7514, 436.908, 10.9227])), (512.0, ([12.0, u'ML Mountain FrameW  Silver  42', 199.3757, u'Silver', 364.09, 218.454], [20080501.0, 20080513.0, 20080508.0, 236.0, 289.0, 1.0, 1.0, 5.0, 218.454, 0.0, 0.0, 199.3757, 996.8785, 1092.27, 27.3068])), (512.0, ([12.0, u'ML Mountain FrameW  Silver  42', 199.3757, u'Silver', 364.09, 218.454], [20080201.0, 20080213.0, 20080208.0, 100.0, 291.0, 1.0, 6.0, 1.0, 218.454, 0.0, 0.0, 199.3757, 199.3757, 218.454, 5.4614])), (512.0, ([12.0, u'ML Mountain FrameW  Silver  42', 199.3757, u'Silver', 364.09, 218.454], [20071001.0, 20071013.0, 20071008.0, 437.0, 287.0, 1.0, 4.0, 1.0, 218.454, 0.0, 0.0, 199.3757, 199.3757, 218.454, 5.4614])), (512.0, ([12.0, u'ML Mountain FrameW  Silver  42', 199.3757, u'Silver', 364.09, 218.454], [20080401.0, 20080413.0, 20080408.0, 676.0, 285.0, 1.0, 5.0, 2.0, 218.454, 0.0, 0.0, 199.3757, 398.7514, 436.908, 10.9227]))]"
   ]
  },
  {
   "cell_type": "code",
   "execution_count": 30,
   "id": "53780a3b",
   "metadata": {},
   "outputs": [
    {
     "data": {
      "text/plain": [
       "([12.0, 'ML Mountain FrameW  Silver  42', 199.3757, 'Silver', 364.09, 218.454],\n",
       " [20070701.0,\n",
       "  20070713.0,\n",
       "  20070708.0,\n",
       "  442.0,\n",
       "  291.0,\n",
       "  1.0,\n",
       "  6.0,\n",
       "  2.0,\n",
       "  218.454,\n",
       "  0.0,\n",
       "  0.0,\n",
       "  199.3757,\n",
       "  398.7514,\n",
       "  436.908,\n",
       "  10.9227])"
      ]
     },
     "execution_count": 30,
     "metadata": {},
     "output_type": "execute_result"
    }
   ],
   "source": [
    "arr[0][1]"
   ]
  },
  {
   "cell_type": "code",
   "execution_count": 1,
   "id": "7a5230ec",
   "metadata": {},
   "outputs": [
    {
     "name": "stdout",
     "output_type": "stream",
     "text": [
      "[1, 4, 9, 16, 25]\n"
     ]
    }
   ],
   "source": [
    "arr = [1,2,3,4,5]\n",
    "a = [x*x for x in arr]\n",
    "print(a)"
   ]
  },
  {
   "cell_type": "code",
   "execution_count": 2,
   "id": "ed4a6c5c",
   "metadata": {},
   "outputs": [
    {
     "data": {
      "text/plain": [
       "'C:\\\\Users\\\\aditya.singh490'"
      ]
     },
     "execution_count": 2,
     "metadata": {},
     "output_type": "execute_result"
    }
   ],
   "source": [
    "pwd"
   ]
  },
  {
   "cell_type": "code",
   "execution_count": 3,
   "id": "24f935ee",
   "metadata": {},
   "outputs": [],
   "source": [
    "mkdir adi"
   ]
  },
  {
   "cell_type": "code",
   "execution_count": 4,
   "id": "d57a77df",
   "metadata": {},
   "outputs": [
    {
     "name": "stdout",
     "output_type": "stream",
     "text": [
      " Volume in drive C is OSDisk\n",
      " Volume Serial Number is 847B-7706\n",
      "\n",
      " Directory of C:\\Users\\aditya.singh490\n",
      "\n"
     ]
    },
    {
     "name": "stderr",
     "output_type": "stream",
     "text": [
      "File Not Found\n"
     ]
    }
   ],
   "source": [
    "ls pwd"
   ]
  },
  {
   "cell_type": "code",
   "execution_count": 8,
   "id": "b3e9cac6",
   "metadata": {},
   "outputs": [
    {
     "ename": "SyntaxError",
     "evalue": "EOL while scanning string literal (<ipython-input-8-f56565b8a571>, line 1)",
     "output_type": "error",
     "traceback": [
      "\u001b[1;36m  File \u001b[1;32m\"<ipython-input-8-f56565b8a571>\"\u001b[1;36m, line \u001b[1;32m1\u001b[0m\n\u001b[1;33m    f = open(\"C:\\Users\\aditya.singh490\\Desktop\\Steps.txt\\\", \"r\")\u001b[0m\n\u001b[1;37m                                                                ^\u001b[0m\n\u001b[1;31mSyntaxError\u001b[0m\u001b[1;31m:\u001b[0m EOL while scanning string literal\n"
     ]
    }
   ],
   "source": [
    "f = open(\"C:\\Users\\aditya.singh490\\Desktop\\Steps.txt\\\", \"r\")"
   ]
  },
  {
   "cell_type": "code",
   "execution_count": 9,
   "id": "5cf1ae33",
   "metadata": {},
   "outputs": [
    {
     "name": "stdout",
     "output_type": "stream",
     "text": [
      "C:\\Users\\aditya.singh490\\Desktop\n"
     ]
    }
   ],
   "source": [
    "cd C:\\Users\\aditya.singh490\\Desktop\\"
   ]
  },
  {
   "cell_type": "code",
   "execution_count": 10,
   "id": "a9d0db27",
   "metadata": {},
   "outputs": [
    {
     "data": {
      "text/plain": [
       "'C:\\\\Users\\\\aditya.singh490\\\\Desktop'"
      ]
     },
     "execution_count": 10,
     "metadata": {},
     "output_type": "execute_result"
    }
   ],
   "source": [
    "pwd"
   ]
  },
  {
   "cell_type": "code",
   "execution_count": 11,
   "id": "e64a7304",
   "metadata": {},
   "outputs": [
    {
     "name": "stdout",
     "output_type": "stream",
     "text": [
      " Volume in drive C is OSDisk\n",
      " Volume Serial Number is 847B-7706\n",
      "\n",
      " Directory of C:\\Users\\aditya.singh490\\Desktop\n",
      "\n",
      "09/28/2022  04:58 PM    <DIR>          .\n",
      "09/28/2022  04:58 PM    <DIR>          ..\n",
      "01/22/2022  12:28 AM           222,630 1.0_Intro_to_DBMS.pdf\n",
      "01/22/2022  12:28 AM           348,712 1.1_Intro_to_DBMS.pdf\n",
      "07/10/2022  04:21 PM           227,747 3.3_SQL_BasicQueries.pdf\n",
      "07/10/2022  04:21 PM           227,747 3.3_SQL_BasicQueries-1.pdf\n",
      "07/10/2022  04:21 PM         1,237,679 3.4_SQL_NestedQueries.pdf\n",
      "08/28/2022  10:51 AM                65 Access Code.txt\n",
      "07/18/2022  09:42 AM         3,540,873 app_annie__state_of_mobile_2021__en.pdf\n",
      "08/18/2022  11:52 AM    <DIR>          Big Data Certifications\n",
      "07/14/2022  12:28 AM         3,960,440 bigdatacert.pdf\n",
      "11/21/2021  02:42 PM    <DIR>          Blockchain\n",
      "05/24/2022  01:43 AM            37,174 Code.docx\n",
      "09/27/2022  05:06 PM             1,086 Code.txt\n",
      "08/27/2022  01:50 AM        51,695,709 Database using Microsoft SQL Server .pdf\n",
      "07/11/2022  09:38 PM             9,382 dbms.txt\n",
      "07/11/2022  09:37 PM             3,184 dbms-1.txt\n",
      "07/28/2022  04:25 PM               146 Download Certificate.txt\n",
      "08/05/2022  01:26 AM           607,849 EFHIP_2022-23.pdf\n",
      "11/03/2022  03:40 PM             2,523 Google Chrome.lnk\n",
      "08/17/2022  02:38 PM    <DIR>          Hive\n",
      "07/25/2022  10:39 AM               271 Imports.txt\n",
      "08/11/2022  11:35 PM             1,286 IntelliJ IDEA Community Edition 2022.2.lnk\n",
      "04/02/2022  03:43 PM             8,228 Java PP Interview Questions.docx\n",
      "08/28/2022  06:22 AM           826,385 LabAccess.pdf\n",
      "09/28/2022  04:37 PM             2,416 Microsoft Teams.lnk\n",
      "08/27/2022  07:05 PM             1,222 New Text Document.txt\n",
      "09/13/2021  05:14 PM             2,836 Paytm Money Stocks.lnk\n",
      "08/07/2022  01:10 PM    <DIR>          PySpark\n",
      "07/25/2022  11:48 AM                80 Raise AHD.txt\n",
      "08/17/2022  11:34 PM             2,807 Spark Assignment 1.txt\n",
      "07/24/2022  04:08 PM    <DIR>          Spark SQL\n",
      "10/29/2018  09:40 PM             4,212 Sqoop.txt\n",
      "09/08/2022  09:06 PM        43,830,058 SSAS new.pdf\n",
      "09/07/2022  11:36 AM               373 Steps to access practice labs.txt\n",
      "09/01/2022  12:43 PM               447 Steps.txt\n",
      "07/10/2022  04:20 PM            20,779 UNIX utility commands(1).pdf\n",
      "02/25/2021  12:56 PM             1,502 Webex.lnk\n",
      "              31 File(s)    106,825,848 bytes\n",
      "               7 Dir(s)  80,730,693,632 bytes free\n"
     ]
    }
   ],
   "source": [
    "ls"
   ]
  },
  {
   "cell_type": "code",
   "execution_count": 14,
   "id": "1a905f80",
   "metadata": {},
   "outputs": [],
   "source": [
    "f = open(\"Steps.txt\", \"w\")"
   ]
  },
  {
   "cell_type": "code",
   "execution_count": 13,
   "id": "6201f806",
   "metadata": {},
   "outputs": [
    {
     "name": "stdout",
     "output_type": "stream",
     "text": [
      "1. Go to this link - https://gsi.learnondemand.net/\n",
      "2. Login to Microsoft Account\n",
      "3. Click on Redeem Training Key - 4D773C9FF8724108\n",
      "4. View Agrrement -> Agree\n",
      "5. First Launch Button\n",
      "6. Password - Pa55w.rd\n",
      "\n",
      "LET Portal - https://www.koenig-solutions.com/account/login\n",
      "\n",
      "Attendance - https://rms-new.netlify.app/third_party?batch_header=125177\n",
      "\n",
      "sillpipe - https://skillpipe.com/\n",
      "\n",
      "QW7WJZ98H2DORI6OQI\n",
      "\n",
      "nytfv8a - suffix for Azure resource\n"
     ]
    }
   ],
   "source": [
    "print(f.read())"
   ]
  },
  {
   "cell_type": "code",
   "execution_count": 20,
   "id": "6aab375c",
   "metadata": {},
   "outputs": [
    {
     "data": {
      "text/plain": [
       "34"
      ]
     },
     "execution_count": 20,
     "metadata": {},
     "output_type": "execute_result"
    }
   ],
   "source": [
    "f.write(\"This file is opened in append mode\")"
   ]
  },
  {
   "cell_type": "code",
   "execution_count": 22,
   "id": "89bf3edc",
   "metadata": {},
   "outputs": [],
   "source": [
    "f = open(\"Steps.txt\", \"r\")"
   ]
  },
  {
   "cell_type": "code",
   "execution_count": 23,
   "id": "c42d24dc",
   "metadata": {},
   "outputs": [
    {
     "name": "stdout",
     "output_type": "stream",
     "text": [
      "This file is opened in write modeThis file is opened in append mode\n"
     ]
    }
   ],
   "source": [
    "print(f.read())"
   ]
  },
  {
   "cell_type": "code",
   "execution_count": 27,
   "id": "ca415901",
   "metadata": {},
   "outputs": [
    {
     "name": "stdout",
     "output_type": "stream",
     "text": [
      "[1, 4, 9, 16, 25]\n"
     ]
    }
   ],
   "source": [
    "def sqr(a):\n",
    "    for i in range(len(a)):\n",
    "        a[i] = a[i]*a[i]\n",
    "    return a\n",
    "\n",
    "arr = [1,2,3,4,5]\n",
    "print(sqr(arr))"
   ]
  },
  {
   "cell_type": "code",
   "execution_count": 41,
   "id": "46eb30c8",
   "metadata": {},
   "outputs": [
    {
     "name": "stdout",
     "output_type": "stream",
     "text": [
      "[1, 4, 9, 16, 25]\n"
     ]
    }
   ],
   "source": [
    "arr = [1,2,3,4,5]\n",
    "arr = [x*x for x in arr]\n",
    "print(a)"
   ]
  },
  {
   "cell_type": "code",
   "execution_count": 40,
   "id": "f9a06a96",
   "metadata": {},
   "outputs": [
    {
     "name": "stdout",
     "output_type": "stream",
     "text": [
      "[1, 4, 9, 16, 25]\n"
     ]
    }
   ],
   "source": [
    "arr = [1,2,3,4,5]\n",
    "arr = list(map(lambda x : x*x, arr))\n",
    "print(arr)"
   ]
  },
  {
   "cell_type": "code",
   "execution_count": 42,
   "id": "26fdf3a9",
   "metadata": {},
   "outputs": [
    {
     "name": "stdout",
     "output_type": "stream",
     "text": [
      "[1, 2, 'a', 'bat', 78]\n"
     ]
    }
   ],
   "source": [
    "arr = [1,2,'a',\"bat\",78]\n",
    "a = [x for x in arr]\n",
    "print(a)"
   ]
  },
  {
   "cell_type": "code",
   "execution_count": null,
   "id": "74df5d77",
   "metadata": {},
   "outputs": [],
   "source": []
  }
 ],
 "metadata": {
  "kernelspec": {
   "display_name": "Python 3",
   "language": "python",
   "name": "python3"
  },
  "language_info": {
   "codemirror_mode": {
    "name": "ipython",
    "version": 3
   },
   "file_extension": ".py",
   "mimetype": "text/x-python",
   "name": "python",
   "nbconvert_exporter": "python",
   "pygments_lexer": "ipython3",
   "version": "3.8.8"
  }
 },
 "nbformat": 4,
 "nbformat_minor": 5
}
