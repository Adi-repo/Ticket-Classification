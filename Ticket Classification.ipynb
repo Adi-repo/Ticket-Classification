{
 "cells": [
  {
   "cell_type": "code",
   "execution_count": 3,
   "metadata": {},
   "outputs": [],
   "source": [
    "import pandas as pd\n",
    "df  = pd.read_csv(\"SampleDataset.csv\", encoding='latin-1')"
   ]
  },
  {
   "cell_type": "code",
   "execution_count": 4,
   "metadata": {},
   "outputs": [
    {
     "data": {
      "text/html": [
       "<div>\n",
       "<style scoped>\n",
       "    .dataframe tbody tr th:only-of-type {\n",
       "        vertical-align: middle;\n",
       "    }\n",
       "\n",
       "    .dataframe tbody tr th {\n",
       "        vertical-align: top;\n",
       "    }\n",
       "\n",
       "    .dataframe thead th {\n",
       "        text-align: right;\n",
       "    }\n",
       "</style>\n",
       "<table border=\"1\" class=\"dataframe\">\n",
       "  <thead>\n",
       "    <tr style=\"text-align: right;\">\n",
       "      <th></th>\n",
       "      <th>Sno</th>\n",
       "      <th>TECHNOLOGY</th>\n",
       "      <th>ORIGINAL/SYNONYM</th>\n",
       "      <th>QUESTION</th>\n",
       "      <th>SOLUTION</th>\n",
       "    </tr>\n",
       "  </thead>\n",
       "  <tbody>\n",
       "    <tr>\n",
       "      <th>0</th>\n",
       "      <td>1</td>\n",
       "      <td>PowerBI</td>\n",
       "      <td>Original</td>\n",
       "      <td>Issue with Power bi date slicer</td>\n",
       "      <td>If you are experiencing an issue with the date...</td>\n",
       "    </tr>\n",
       "    <tr>\n",
       "      <th>1</th>\n",
       "      <td>2</td>\n",
       "      <td>PowerBI</td>\n",
       "      <td>Synonym</td>\n",
       "      <td>What are some common issues that can arise wit...</td>\n",
       "      <td>same as above</td>\n",
       "    </tr>\n",
       "    <tr>\n",
       "      <th>2</th>\n",
       "      <td>3</td>\n",
       "      <td>PowerBI</td>\n",
       "      <td>Synonym</td>\n",
       "      <td>How do I resolve issues with the date slicer i...</td>\n",
       "      <td>Same as above</td>\n",
       "    </tr>\n",
       "    <tr>\n",
       "      <th>3</th>\n",
       "      <td>4</td>\n",
       "      <td>PowerBI</td>\n",
       "      <td>Synonym</td>\n",
       "      <td>I'm having trouble getting the date slicer in ...</td>\n",
       "      <td>Same as above</td>\n",
       "    </tr>\n",
       "    <tr>\n",
       "      <th>4</th>\n",
       "      <td>5</td>\n",
       "      <td>PowerBI</td>\n",
       "      <td>Synonym</td>\n",
       "      <td>What could be causing the date slicer in Power...</td>\n",
       "      <td>Same as above</td>\n",
       "    </tr>\n",
       "  </tbody>\n",
       "</table>\n",
       "</div>"
      ],
      "text/plain": [
       "   Sno TECHNOLOGY ORIGINAL/SYNONYM  \\\n",
       "0    1    PowerBI         Original   \n",
       "1    2    PowerBI          Synonym   \n",
       "2    3    PowerBI         Synonym    \n",
       "3    4    PowerBI         Synonym    \n",
       "4    5    PowerBI         Synonym    \n",
       "\n",
       "                                            QUESTION  \\\n",
       "0                    Issue with Power bi date slicer   \n",
       "1  What are some common issues that can arise wit...   \n",
       "2  How do I resolve issues with the date slicer i...   \n",
       "3  I'm having trouble getting the date slicer in ...   \n",
       "4  What could be causing the date slicer in Power...   \n",
       "\n",
       "                                            SOLUTION  \n",
       "0  If you are experiencing an issue with the date...  \n",
       "1                                      same as above  \n",
       "2                                      Same as above  \n",
       "3                                      Same as above  \n",
       "4                                      Same as above  "
      ]
     },
     "execution_count": 4,
     "metadata": {},
     "output_type": "execute_result"
    }
   ],
   "source": [
    "df.head()"
   ]
  },
  {
   "cell_type": "code",
   "execution_count": 5,
   "metadata": {},
   "outputs": [],
   "source": [
    "# I only need column 2nd and 4th\n",
    "df = df.iloc[:,[1,3]]"
   ]
  },
  {
   "cell_type": "code",
   "execution_count": 6,
   "metadata": {},
   "outputs": [
    {
     "data": {
      "text/html": [
       "<div>\n",
       "<style scoped>\n",
       "    .dataframe tbody tr th:only-of-type {\n",
       "        vertical-align: middle;\n",
       "    }\n",
       "\n",
       "    .dataframe tbody tr th {\n",
       "        vertical-align: top;\n",
       "    }\n",
       "\n",
       "    .dataframe thead th {\n",
       "        text-align: right;\n",
       "    }\n",
       "</style>\n",
       "<table border=\"1\" class=\"dataframe\">\n",
       "  <thead>\n",
       "    <tr style=\"text-align: right;\">\n",
       "      <th></th>\n",
       "      <th>TECHNOLOGY</th>\n",
       "      <th>QUESTION</th>\n",
       "    </tr>\n",
       "  </thead>\n",
       "  <tbody>\n",
       "    <tr>\n",
       "      <th>0</th>\n",
       "      <td>PowerBI</td>\n",
       "      <td>Issue with Power bi date slicer</td>\n",
       "    </tr>\n",
       "    <tr>\n",
       "      <th>1</th>\n",
       "      <td>PowerBI</td>\n",
       "      <td>What are some common issues that can arise wit...</td>\n",
       "    </tr>\n",
       "    <tr>\n",
       "      <th>2</th>\n",
       "      <td>PowerBI</td>\n",
       "      <td>How do I resolve issues with the date slicer i...</td>\n",
       "    </tr>\n",
       "    <tr>\n",
       "      <th>3</th>\n",
       "      <td>PowerBI</td>\n",
       "      <td>I'm having trouble getting the date slicer in ...</td>\n",
       "    </tr>\n",
       "    <tr>\n",
       "      <th>4</th>\n",
       "      <td>PowerBI</td>\n",
       "      <td>What could be causing the date slicer in Power...</td>\n",
       "    </tr>\n",
       "  </tbody>\n",
       "</table>\n",
       "</div>"
      ],
      "text/plain": [
       "  TECHNOLOGY                                           QUESTION\n",
       "0    PowerBI                    Issue with Power bi date slicer\n",
       "1    PowerBI  What are some common issues that can arise wit...\n",
       "2    PowerBI  How do I resolve issues with the date slicer i...\n",
       "3    PowerBI  I'm having trouble getting the date slicer in ...\n",
       "4    PowerBI  What could be causing the date slicer in Power..."
      ]
     },
     "execution_count": 6,
     "metadata": {},
     "output_type": "execute_result"
    }
   ],
   "source": [
    "df.head()"
   ]
  },
  {
   "cell_type": "code",
   "execution_count": null,
   "metadata": {},
   "outputs": [],
   "source": []
  }
 ],
 "metadata": {
  "kernelspec": {
   "display_name": "IntelAPI",
   "language": "python",
   "name": "intelapi"
  },
  "language_info": {
   "codemirror_mode": {
    "name": "ipython",
    "version": 3
   },
   "file_extension": ".py",
   "mimetype": "text/x-python",
   "name": "python",
   "nbconvert_exporter": "python",
   "pygments_lexer": "ipython3",
   "version": "3.8.16"
  },
  "orig_nbformat": 4
 },
 "nbformat": 4,
 "nbformat_minor": 2
}
